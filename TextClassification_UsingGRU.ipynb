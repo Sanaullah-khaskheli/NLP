{
  "cells": [
    {
      "cell_type": "code",
      "execution_count": 3,
      "metadata": {
        "colab": {
          "base_uri": "https://localhost:8080/"
        },
        "id": "ZpyfU_29ueF6",
        "outputId": "4c84705b-27ab-4cb5-e78e-38d1ab33212b"
      },
      "outputs": [
        {
          "name": "stdout",
          "output_type": "stream",
          "text": [
            "Num GPUs Available:  2\n"
          ]
        },
        {
          "data": {
            "text/plain": [
              "[PhysicalDevice(name='/physical_device:GPU:0', device_type='GPU'),\n",
              " PhysicalDevice(name='/physical_device:GPU:1', device_type='GPU')]"
            ]
          },
          "execution_count": 3,
          "metadata": {},
          "output_type": "execute_result"
        }
      ],
      "source": [
        "import tensorflow as tf\n",
        "print(\"Num GPUs Available: \", len(tf.config.list_physical_devices('GPU')))\n",
        "tf.config.list_physical_devices('GPU')"
      ]
    },
    {
      "cell_type": "code",
      "execution_count": 4,
      "metadata": {
        "colab": {
          "base_uri": "https://localhost:8080/"
        },
        "id": "ftZouLGDuKk0",
        "outputId": "bd951626-5e7b-41c2-c683-91a0b1c81bc0"
      },
      "outputs": [
        {
          "name": "stderr",
          "output_type": "stream",
          "text": [
            "[nltk_data] Downloading collection 'all'\n",
            "[nltk_data]    | \n",
            "[nltk_data]    | Downloading package abc to\n",
            "[nltk_data]    |     C:\\Users\\Administrator\\AppData\\Roaming\\nltk_data.\n",
            "[nltk_data]    |     ..\n",
            "[nltk_data]    |   Package abc is already up-to-date!\n",
            "[nltk_data]    | Downloading package alpino to\n",
            "[nltk_data]    |     C:\\Users\\Administrator\\AppData\\Roaming\\nltk_data.\n",
            "[nltk_data]    |     ..\n",
            "[nltk_data]    |   Package alpino is already up-to-date!\n",
            "[nltk_data]    | Downloading package averaged_perceptron_tagger to\n",
            "[nltk_data]    |     C:\\Users\\Administrator\\AppData\\Roaming\\nltk_data.\n",
            "[nltk_data]    |     ..\n",
            "[nltk_data]    |   Package averaged_perceptron_tagger is already up-\n",
            "[nltk_data]    |       to-date!\n",
            "[nltk_data]    | Downloading package averaged_perceptron_tagger_eng to\n",
            "[nltk_data]    |     C:\\Users\\Administrator\\AppData\\Roaming\\nltk_data.\n",
            "[nltk_data]    |     ..\n",
            "[nltk_data]    |   Package averaged_perceptron_tagger_eng is already\n",
            "[nltk_data]    |       up-to-date!\n",
            "[nltk_data]    | Downloading package averaged_perceptron_tagger_ru to\n",
            "[nltk_data]    |     C:\\Users\\Administrator\\AppData\\Roaming\\nltk_data.\n",
            "[nltk_data]    |     ..\n",
            "[nltk_data]    |   Package averaged_perceptron_tagger_ru is already\n",
            "[nltk_data]    |       up-to-date!\n",
            "[nltk_data]    | Downloading package averaged_perceptron_tagger_rus to\n",
            "[nltk_data]    |     C:\\Users\\Administrator\\AppData\\Roaming\\nltk_data.\n",
            "[nltk_data]    |     ..\n",
            "[nltk_data]    |   Package averaged_perceptron_tagger_rus is already\n",
            "[nltk_data]    |       up-to-date!\n",
            "[nltk_data]    | Downloading package basque_grammars to\n",
            "[nltk_data]    |     C:\\Users\\Administrator\\AppData\\Roaming\\nltk_data.\n",
            "[nltk_data]    |     ..\n",
            "[nltk_data]    |   Package basque_grammars is already up-to-date!\n",
            "[nltk_data]    | Downloading package bcp47 to\n",
            "[nltk_data]    |     C:\\Users\\Administrator\\AppData\\Roaming\\nltk_data.\n",
            "[nltk_data]    |     ..\n",
            "[nltk_data]    |   Package bcp47 is already up-to-date!\n",
            "[nltk_data]    | Downloading package biocreative_ppi to\n",
            "[nltk_data]    |     C:\\Users\\Administrator\\AppData\\Roaming\\nltk_data.\n",
            "[nltk_data]    |     ..\n",
            "[nltk_data]    |   Package biocreative_ppi is already up-to-date!\n",
            "[nltk_data]    | Downloading package bllip_wsj_no_aux to\n",
            "[nltk_data]    |     C:\\Users\\Administrator\\AppData\\Roaming\\nltk_data.\n",
            "[nltk_data]    |     ..\n",
            "[nltk_data]    |   Package bllip_wsj_no_aux is already up-to-date!\n",
            "[nltk_data]    | Downloading package book_grammars to\n",
            "[nltk_data]    |     C:\\Users\\Administrator\\AppData\\Roaming\\nltk_data.\n",
            "[nltk_data]    |     ..\n",
            "[nltk_data]    |   Package book_grammars is already up-to-date!\n",
            "[nltk_data]    | Downloading package brown to\n",
            "[nltk_data]    |     C:\\Users\\Administrator\\AppData\\Roaming\\nltk_data.\n",
            "[nltk_data]    |     ..\n",
            "[nltk_data]    |   Package brown is already up-to-date!\n",
            "[nltk_data]    | Downloading package brown_tei to\n",
            "[nltk_data]    |     C:\\Users\\Administrator\\AppData\\Roaming\\nltk_data.\n",
            "[nltk_data]    |     ..\n",
            "[nltk_data]    |   Package brown_tei is already up-to-date!\n",
            "[nltk_data]    | Downloading package cess_cat to\n",
            "[nltk_data]    |     C:\\Users\\Administrator\\AppData\\Roaming\\nltk_data.\n",
            "[nltk_data]    |     ..\n",
            "[nltk_data]    |   Package cess_cat is already up-to-date!\n",
            "[nltk_data]    | Downloading package cess_esp to\n",
            "[nltk_data]    |     C:\\Users\\Administrator\\AppData\\Roaming\\nltk_data.\n",
            "[nltk_data]    |     ..\n",
            "[nltk_data]    |   Package cess_esp is already up-to-date!\n",
            "[nltk_data]    | Downloading package chat80 to\n",
            "[nltk_data]    |     C:\\Users\\Administrator\\AppData\\Roaming\\nltk_data.\n",
            "[nltk_data]    |     ..\n",
            "[nltk_data]    |   Package chat80 is already up-to-date!\n",
            "[nltk_data]    | Downloading package city_database to\n",
            "[nltk_data]    |     C:\\Users\\Administrator\\AppData\\Roaming\\nltk_data.\n",
            "[nltk_data]    |     ..\n",
            "[nltk_data]    |   Package city_database is already up-to-date!\n",
            "[nltk_data]    | Downloading package cmudict to\n",
            "[nltk_data]    |     C:\\Users\\Administrator\\AppData\\Roaming\\nltk_data.\n",
            "[nltk_data]    |     ..\n",
            "[nltk_data]    |   Package cmudict is already up-to-date!\n",
            "[nltk_data]    | Downloading package comparative_sentences to\n",
            "[nltk_data]    |     C:\\Users\\Administrator\\AppData\\Roaming\\nltk_data.\n",
            "[nltk_data]    |     ..\n",
            "[nltk_data]    |   Package comparative_sentences is already up-to-\n",
            "[nltk_data]    |       date!\n",
            "[nltk_data]    | Downloading package comtrans to\n",
            "[nltk_data]    |     C:\\Users\\Administrator\\AppData\\Roaming\\nltk_data.\n",
            "[nltk_data]    |     ..\n",
            "[nltk_data]    | Downloading package conll2000 to\n",
            "[nltk_data]    |     C:\\Users\\Administrator\\AppData\\Roaming\\nltk_data.\n",
            "[nltk_data]    |     ..\n",
            "[nltk_data]    |   Unzipping corpora\\conll2000.zip.\n",
            "[nltk_data]    | Downloading package conll2002 to\n",
            "[nltk_data]    |     C:\\Users\\Administrator\\AppData\\Roaming\\nltk_data.\n",
            "[nltk_data]    |     ..\n",
            "[nltk_data]    |   Unzipping corpora\\conll2002.zip.\n",
            "[nltk_data]    | Downloading package conll2007 to\n",
            "[nltk_data]    |     C:\\Users\\Administrator\\AppData\\Roaming\\nltk_data.\n",
            "[nltk_data]    |     ..\n",
            "[nltk_data]    | Downloading package crubadan to\n",
            "[nltk_data]    |     C:\\Users\\Administrator\\AppData\\Roaming\\nltk_data.\n",
            "[nltk_data]    |     ..\n",
            "[nltk_data]    |   Unzipping corpora\\crubadan.zip.\n",
            "[nltk_data]    | Downloading package dependency_treebank to\n",
            "[nltk_data]    |     C:\\Users\\Administrator\\AppData\\Roaming\\nltk_data.\n",
            "[nltk_data]    |     ..\n",
            "[nltk_data]    |   Unzipping corpora\\dependency_treebank.zip.\n",
            "[nltk_data]    | Downloading package dolch to\n",
            "[nltk_data]    |     C:\\Users\\Administrator\\AppData\\Roaming\\nltk_data.\n",
            "[nltk_data]    |     ..\n",
            "[nltk_data]    |   Unzipping corpora\\dolch.zip.\n",
            "[nltk_data]    | Downloading package europarl_raw to\n",
            "[nltk_data]    |     C:\\Users\\Administrator\\AppData\\Roaming\\nltk_data.\n",
            "[nltk_data]    |     ..\n",
            "[nltk_data]    |   Unzipping corpora\\europarl_raw.zip.\n",
            "[nltk_data]    | Downloading package extended_omw to\n",
            "[nltk_data]    |     C:\\Users\\Administrator\\AppData\\Roaming\\nltk_data.\n",
            "[nltk_data]    |     ..\n",
            "[nltk_data]    | Downloading package floresta to\n",
            "[nltk_data]    |     C:\\Users\\Administrator\\AppData\\Roaming\\nltk_data.\n",
            "[nltk_data]    |     ..\n",
            "[nltk_data]    |   Unzipping corpora\\floresta.zip.\n",
            "[nltk_data]    | Downloading package framenet_v15 to\n",
            "[nltk_data]    |     C:\\Users\\Administrator\\AppData\\Roaming\\nltk_data.\n",
            "[nltk_data]    |     ..\n",
            "[nltk_data]    |   Unzipping corpora\\framenet_v15.zip.\n",
            "[nltk_data]    | Downloading package framenet_v17 to\n",
            "[nltk_data]    |     C:\\Users\\Administrator\\AppData\\Roaming\\nltk_data.\n",
            "[nltk_data]    |     ..\n",
            "[nltk_data]    |   Unzipping corpora\\framenet_v17.zip.\n",
            "[nltk_data]    | Downloading package gazetteers to\n",
            "[nltk_data]    |     C:\\Users\\Administrator\\AppData\\Roaming\\nltk_data.\n",
            "[nltk_data]    |     ..\n",
            "[nltk_data]    |   Unzipping corpora\\gazetteers.zip.\n",
            "[nltk_data]    | Downloading package genesis to\n",
            "[nltk_data]    |     C:\\Users\\Administrator\\AppData\\Roaming\\nltk_data.\n",
            "[nltk_data]    |     ..\n",
            "[nltk_data]    |   Unzipping corpora\\genesis.zip.\n",
            "[nltk_data]    | Downloading package gutenberg to\n",
            "[nltk_data]    |     C:\\Users\\Administrator\\AppData\\Roaming\\nltk_data.\n",
            "[nltk_data]    |     ..\n",
            "[nltk_data]    |   Unzipping corpora\\gutenberg.zip.\n",
            "[nltk_data]    | Downloading package ieer to\n",
            "[nltk_data]    |     C:\\Users\\Administrator\\AppData\\Roaming\\nltk_data.\n",
            "[nltk_data]    |     ..\n",
            "[nltk_data]    |   Unzipping corpora\\ieer.zip.\n",
            "[nltk_data]    | Downloading package inaugural to\n",
            "[nltk_data]    |     C:\\Users\\Administrator\\AppData\\Roaming\\nltk_data.\n",
            "[nltk_data]    |     ..\n",
            "[nltk_data]    |   Unzipping corpora\\inaugural.zip.\n",
            "[nltk_data]    | Downloading package indian to\n",
            "[nltk_data]    |     C:\\Users\\Administrator\\AppData\\Roaming\\nltk_data.\n",
            "[nltk_data]    |     ..\n",
            "[nltk_data]    |   Unzipping corpora\\indian.zip.\n",
            "[nltk_data]    | Downloading package jeita to\n",
            "[nltk_data]    |     C:\\Users\\Administrator\\AppData\\Roaming\\nltk_data.\n",
            "[nltk_data]    |     ..\n",
            "[nltk_data]    | Downloading package kimmo to\n",
            "[nltk_data]    |     C:\\Users\\Administrator\\AppData\\Roaming\\nltk_data.\n",
            "[nltk_data]    |     ..\n",
            "[nltk_data]    |   Unzipping corpora\\kimmo.zip.\n",
            "[nltk_data]    | Downloading package knbc to\n",
            "[nltk_data]    |     C:\\Users\\Administrator\\AppData\\Roaming\\nltk_data.\n",
            "[nltk_data]    |     ..\n",
            "[nltk_data]    | Downloading package large_grammars to\n",
            "[nltk_data]    |     C:\\Users\\Administrator\\AppData\\Roaming\\nltk_data.\n",
            "[nltk_data]    |     ..\n",
            "[nltk_data]    |   Unzipping grammars\\large_grammars.zip.\n",
            "[nltk_data]    | Downloading package lin_thesaurus to\n",
            "[nltk_data]    |     C:\\Users\\Administrator\\AppData\\Roaming\\nltk_data.\n",
            "[nltk_data]    |     ..\n",
            "[nltk_data]    |   Unzipping corpora\\lin_thesaurus.zip.\n",
            "[nltk_data]    | Downloading package mac_morpho to\n",
            "[nltk_data]    |     C:\\Users\\Administrator\\AppData\\Roaming\\nltk_data.\n",
            "[nltk_data]    |     ..\n",
            "[nltk_data]    |   Unzipping corpora\\mac_morpho.zip.\n",
            "[nltk_data]    | Downloading package machado to\n",
            "[nltk_data]    |     C:\\Users\\Administrator\\AppData\\Roaming\\nltk_data.\n",
            "[nltk_data]    |     ..\n",
            "[nltk_data]    | Downloading package masc_tagged to\n",
            "[nltk_data]    |     C:\\Users\\Administrator\\AppData\\Roaming\\nltk_data.\n",
            "[nltk_data]    |     ..\n",
            "[nltk_data]    | Downloading package maxent_ne_chunker to\n",
            "[nltk_data]    |     C:\\Users\\Administrator\\AppData\\Roaming\\nltk_data.\n",
            "[nltk_data]    |     ..\n",
            "[nltk_data]    |   Unzipping chunkers\\maxent_ne_chunker.zip.\n",
            "[nltk_data]    | Downloading package maxent_ne_chunker_tab to\n",
            "[nltk_data]    |     C:\\Users\\Administrator\\AppData\\Roaming\\nltk_data.\n",
            "[nltk_data]    |     ..\n",
            "[nltk_data]    |   Unzipping chunkers\\maxent_ne_chunker_tab.zip.\n",
            "[nltk_data]    | Downloading package maxent_treebank_pos_tagger to\n",
            "[nltk_data]    |     C:\\Users\\Administrator\\AppData\\Roaming\\nltk_data.\n",
            "[nltk_data]    |     ..\n",
            "[nltk_data]    |   Unzipping taggers\\maxent_treebank_pos_tagger.zip.\n",
            "[nltk_data]    | Downloading package maxent_treebank_pos_tagger_tab to\n",
            "[nltk_data]    |     C:\\Users\\Administrator\\AppData\\Roaming\\nltk_data.\n",
            "[nltk_data]    |     ..\n",
            "[nltk_data]    |   Unzipping\n",
            "[nltk_data]    |       taggers\\maxent_treebank_pos_tagger_tab.zip.\n",
            "[nltk_data]    | Downloading package moses_sample to\n",
            "[nltk_data]    |     C:\\Users\\Administrator\\AppData\\Roaming\\nltk_data.\n",
            "[nltk_data]    |     ..\n",
            "[nltk_data]    |   Unzipping models\\moses_sample.zip.\n",
            "[nltk_data]    | Downloading package movie_reviews to\n",
            "[nltk_data]    |     C:\\Users\\Administrator\\AppData\\Roaming\\nltk_data.\n",
            "[nltk_data]    |     ..\n",
            "[nltk_data]    |   Unzipping corpora\\movie_reviews.zip.\n",
            "[nltk_data]    | Downloading package mte_teip5 to\n",
            "[nltk_data]    |     C:\\Users\\Administrator\\AppData\\Roaming\\nltk_data.\n",
            "[nltk_data]    |     ..\n",
            "[nltk_data]    |   Unzipping corpora\\mte_teip5.zip.\n",
            "[nltk_data]    | Downloading package mwa_ppdb to\n",
            "[nltk_data]    |     C:\\Users\\Administrator\\AppData\\Roaming\\nltk_data.\n",
            "[nltk_data]    |     ..\n",
            "[nltk_data]    |   Unzipping misc\\mwa_ppdb.zip.\n",
            "[nltk_data]    | Downloading package names to\n",
            "[nltk_data]    |     C:\\Users\\Administrator\\AppData\\Roaming\\nltk_data.\n",
            "[nltk_data]    |     ..\n",
            "[nltk_data]    |   Unzipping corpora\\names.zip.\n",
            "[nltk_data]    | Downloading package nombank.1.0 to\n",
            "[nltk_data]    |     C:\\Users\\Administrator\\AppData\\Roaming\\nltk_data.\n",
            "[nltk_data]    |     ..\n",
            "[nltk_data]    | Downloading package nonbreaking_prefixes to\n",
            "[nltk_data]    |     C:\\Users\\Administrator\\AppData\\Roaming\\nltk_data.\n",
            "[nltk_data]    |     ..\n",
            "[nltk_data]    |   Unzipping corpora\\nonbreaking_prefixes.zip.\n",
            "[nltk_data]    | Downloading package nps_chat to\n",
            "[nltk_data]    |     C:\\Users\\Administrator\\AppData\\Roaming\\nltk_data.\n",
            "[nltk_data]    |     ..\n",
            "[nltk_data]    |   Unzipping corpora\\nps_chat.zip.\n",
            "[nltk_data]    | Downloading package omw to\n",
            "[nltk_data]    |     C:\\Users\\Administrator\\AppData\\Roaming\\nltk_data.\n",
            "[nltk_data]    |     ..\n",
            "[nltk_data]    | Downloading package omw-1.4 to\n",
            "[nltk_data]    |     C:\\Users\\Administrator\\AppData\\Roaming\\nltk_data.\n",
            "[nltk_data]    |     ..\n",
            "[nltk_data]    | Downloading package opinion_lexicon to\n",
            "[nltk_data]    |     C:\\Users\\Administrator\\AppData\\Roaming\\nltk_data.\n",
            "[nltk_data]    |     ..\n",
            "[nltk_data]    |   Unzipping corpora\\opinion_lexicon.zip.\n",
            "[nltk_data]    | Downloading package panlex_swadesh to\n",
            "[nltk_data]    |     C:\\Users\\Administrator\\AppData\\Roaming\\nltk_data.\n",
            "[nltk_data]    |     ..\n",
            "[nltk_data]    | Downloading package paradigms to\n",
            "[nltk_data]    |     C:\\Users\\Administrator\\AppData\\Roaming\\nltk_data.\n",
            "[nltk_data]    |     ..\n",
            "[nltk_data]    |   Unzipping corpora\\paradigms.zip.\n",
            "[nltk_data]    | Downloading package pe08 to\n",
            "[nltk_data]    |     C:\\Users\\Administrator\\AppData\\Roaming\\nltk_data.\n",
            "[nltk_data]    |     ..\n",
            "[nltk_data]    |   Unzipping corpora\\pe08.zip.\n",
            "[nltk_data]    | Downloading package perluniprops to\n",
            "[nltk_data]    |     C:\\Users\\Administrator\\AppData\\Roaming\\nltk_data.\n",
            "[nltk_data]    |     ..\n",
            "[nltk_data]    |   Unzipping misc\\perluniprops.zip.\n",
            "[nltk_data]    | Downloading package pil to\n",
            "[nltk_data]    |     C:\\Users\\Administrator\\AppData\\Roaming\\nltk_data.\n",
            "[nltk_data]    |     ..\n",
            "[nltk_data]    |   Unzipping corpora\\pil.zip.\n",
            "[nltk_data]    | Downloading package pl196x to\n",
            "[nltk_data]    |     C:\\Users\\Administrator\\AppData\\Roaming\\nltk_data.\n",
            "[nltk_data]    |     ..\n",
            "[nltk_data]    |   Unzipping corpora\\pl196x.zip.\n",
            "[nltk_data]    | Downloading package porter_test to\n",
            "[nltk_data]    |     C:\\Users\\Administrator\\AppData\\Roaming\\nltk_data.\n",
            "[nltk_data]    |     ..\n",
            "[nltk_data]    |   Unzipping stemmers\\porter_test.zip.\n",
            "[nltk_data]    | Downloading package ppattach to\n",
            "[nltk_data]    |     C:\\Users\\Administrator\\AppData\\Roaming\\nltk_data.\n",
            "[nltk_data]    |     ..\n",
            "[nltk_data]    |   Unzipping corpora\\ppattach.zip.\n",
            "[nltk_data]    | Downloading package problem_reports to\n",
            "[nltk_data]    |     C:\\Users\\Administrator\\AppData\\Roaming\\nltk_data.\n",
            "[nltk_data]    |     ..\n",
            "[nltk_data]    |   Unzipping corpora\\problem_reports.zip.\n",
            "[nltk_data]    | Downloading package product_reviews_1 to\n",
            "[nltk_data]    |     C:\\Users\\Administrator\\AppData\\Roaming\\nltk_data.\n",
            "[nltk_data]    |     ..\n",
            "[nltk_data]    |   Unzipping corpora\\product_reviews_1.zip.\n",
            "[nltk_data]    | Downloading package product_reviews_2 to\n",
            "[nltk_data]    |     C:\\Users\\Administrator\\AppData\\Roaming\\nltk_data.\n",
            "[nltk_data]    |     ..\n",
            "[nltk_data]    |   Unzipping corpora\\product_reviews_2.zip.\n",
            "[nltk_data]    | Downloading package propbank to\n",
            "[nltk_data]    |     C:\\Users\\Administrator\\AppData\\Roaming\\nltk_data.\n",
            "[nltk_data]    |     ..\n",
            "[nltk_data]    | Downloading package pros_cons to\n",
            "[nltk_data]    |     C:\\Users\\Administrator\\AppData\\Roaming\\nltk_data.\n",
            "[nltk_data]    |     ..\n",
            "[nltk_data]    |   Unzipping corpora\\pros_cons.zip.\n",
            "[nltk_data]    | Downloading package ptb to\n",
            "[nltk_data]    |     C:\\Users\\Administrator\\AppData\\Roaming\\nltk_data.\n",
            "[nltk_data]    |     ..\n",
            "[nltk_data]    |   Unzipping corpora\\ptb.zip.\n",
            "[nltk_data]    | Downloading package punkt to\n",
            "[nltk_data]    |     C:\\Users\\Administrator\\AppData\\Roaming\\nltk_data.\n",
            "[nltk_data]    |     ..\n",
            "[nltk_data]    |   Unzipping tokenizers\\punkt.zip.\n",
            "[nltk_data]    | Downloading package punkt_tab to\n",
            "[nltk_data]    |     C:\\Users\\Administrator\\AppData\\Roaming\\nltk_data.\n",
            "[nltk_data]    |     ..\n",
            "[nltk_data]    |   Unzipping tokenizers\\punkt_tab.zip.\n",
            "[nltk_data]    | Downloading package qc to\n",
            "[nltk_data]    |     C:\\Users\\Administrator\\AppData\\Roaming\\nltk_data.\n",
            "[nltk_data]    |     ..\n",
            "[nltk_data]    |   Unzipping corpora\\qc.zip.\n",
            "[nltk_data]    | Downloading package reuters to\n",
            "[nltk_data]    |     C:\\Users\\Administrator\\AppData\\Roaming\\nltk_data.\n",
            "[nltk_data]    |     ..\n",
            "[nltk_data]    | Downloading package rslp to\n",
            "[nltk_data]    |     C:\\Users\\Administrator\\AppData\\Roaming\\nltk_data.\n",
            "[nltk_data]    |     ..\n",
            "[nltk_data]    |   Unzipping stemmers\\rslp.zip.\n",
            "[nltk_data]    | Downloading package rte to\n",
            "[nltk_data]    |     C:\\Users\\Administrator\\AppData\\Roaming\\nltk_data.\n",
            "[nltk_data]    |     ..\n",
            "[nltk_data]    |   Unzipping corpora\\rte.zip.\n",
            "[nltk_data]    | Downloading package sample_grammars to\n",
            "[nltk_data]    |     C:\\Users\\Administrator\\AppData\\Roaming\\nltk_data.\n",
            "[nltk_data]    |     ..\n",
            "[nltk_data]    |   Unzipping grammars\\sample_grammars.zip.\n",
            "[nltk_data]    | Downloading package semcor to\n",
            "[nltk_data]    |     C:\\Users\\Administrator\\AppData\\Roaming\\nltk_data.\n",
            "[nltk_data]    |     ..\n",
            "[nltk_data]    | Downloading package senseval to\n",
            "[nltk_data]    |     C:\\Users\\Administrator\\AppData\\Roaming\\nltk_data.\n",
            "[nltk_data]    |     ..\n",
            "[nltk_data]    |   Unzipping corpora\\senseval.zip.\n",
            "[nltk_data]    | Downloading package sentence_polarity to\n",
            "[nltk_data]    |     C:\\Users\\Administrator\\AppData\\Roaming\\nltk_data.\n",
            "[nltk_data]    |     ..\n",
            "[nltk_data]    |   Unzipping corpora\\sentence_polarity.zip.\n",
            "[nltk_data]    | Downloading package sentiwordnet to\n",
            "[nltk_data]    |     C:\\Users\\Administrator\\AppData\\Roaming\\nltk_data.\n",
            "[nltk_data]    |     ..\n",
            "[nltk_data]    |   Unzipping corpora\\sentiwordnet.zip.\n",
            "[nltk_data]    | Downloading package shakespeare to\n",
            "[nltk_data]    |     C:\\Users\\Administrator\\AppData\\Roaming\\nltk_data.\n",
            "[nltk_data]    |     ..\n",
            "[nltk_data]    |   Unzipping corpora\\shakespeare.zip.\n",
            "[nltk_data]    | Downloading package sinica_treebank to\n",
            "[nltk_data]    |     C:\\Users\\Administrator\\AppData\\Roaming\\nltk_data.\n",
            "[nltk_data]    |     ..\n",
            "[nltk_data]    |   Unzipping corpora\\sinica_treebank.zip.\n",
            "[nltk_data]    | Downloading package smultron to\n",
            "[nltk_data]    |     C:\\Users\\Administrator\\AppData\\Roaming\\nltk_data.\n",
            "[nltk_data]    |     ..\n",
            "[nltk_data]    |   Unzipping corpora\\smultron.zip.\n",
            "[nltk_data]    | Downloading package snowball_data to\n",
            "[nltk_data]    |     C:\\Users\\Administrator\\AppData\\Roaming\\nltk_data.\n",
            "[nltk_data]    |     ..\n",
            "[nltk_data]    | Downloading package spanish_grammars to\n",
            "[nltk_data]    |     C:\\Users\\Administrator\\AppData\\Roaming\\nltk_data.\n",
            "[nltk_data]    |     ..\n",
            "[nltk_data]    |   Unzipping grammars\\spanish_grammars.zip.\n",
            "[nltk_data]    | Downloading package state_union to\n",
            "[nltk_data]    |     C:\\Users\\Administrator\\AppData\\Roaming\\nltk_data.\n",
            "[nltk_data]    |     ..\n",
            "[nltk_data]    |   Unzipping corpora\\state_union.zip.\n",
            "[nltk_data]    | Downloading package stopwords to\n",
            "[nltk_data]    |     C:\\Users\\Administrator\\AppData\\Roaming\\nltk_data.\n",
            "[nltk_data]    |     ..\n",
            "[nltk_data]    |   Unzipping corpora\\stopwords.zip.\n",
            "[nltk_data]    | Downloading package subjectivity to\n",
            "[nltk_data]    |     C:\\Users\\Administrator\\AppData\\Roaming\\nltk_data.\n",
            "[nltk_data]    |     ..\n",
            "[nltk_data]    |   Unzipping corpora\\subjectivity.zip.\n",
            "[nltk_data]    | Downloading package swadesh to\n",
            "[nltk_data]    |     C:\\Users\\Administrator\\AppData\\Roaming\\nltk_data.\n",
            "[nltk_data]    |     ..\n",
            "[nltk_data]    |   Unzipping corpora\\swadesh.zip.\n",
            "[nltk_data]    | Downloading package switchboard to\n",
            "[nltk_data]    |     C:\\Users\\Administrator\\AppData\\Roaming\\nltk_data.\n",
            "[nltk_data]    |     ..\n",
            "[nltk_data]    |   Unzipping corpora\\switchboard.zip.\n",
            "[nltk_data]    | Downloading package tagsets to\n",
            "[nltk_data]    |     C:\\Users\\Administrator\\AppData\\Roaming\\nltk_data.\n",
            "[nltk_data]    |     ..\n",
            "[nltk_data]    |   Unzipping help\\tagsets.zip.\n",
            "[nltk_data]    | Downloading package tagsets_json to\n",
            "[nltk_data]    |     C:\\Users\\Administrator\\AppData\\Roaming\\nltk_data.\n",
            "[nltk_data]    |     ..\n",
            "[nltk_data]    |   Unzipping help\\tagsets_json.zip.\n",
            "[nltk_data]    | Downloading package timit to\n",
            "[nltk_data]    |     C:\\Users\\Administrator\\AppData\\Roaming\\nltk_data.\n",
            "[nltk_data]    |     ..\n",
            "[nltk_data]    |   Unzipping corpora\\timit.zip.\n",
            "[nltk_data]    | Downloading package toolbox to\n",
            "[nltk_data]    |     C:\\Users\\Administrator\\AppData\\Roaming\\nltk_data.\n",
            "[nltk_data]    |     ..\n",
            "[nltk_data]    |   Unzipping corpora\\toolbox.zip.\n",
            "[nltk_data]    | Downloading package treebank to\n",
            "[nltk_data]    |     C:\\Users\\Administrator\\AppData\\Roaming\\nltk_data.\n",
            "[nltk_data]    |     ..\n",
            "[nltk_data]    |   Unzipping corpora\\treebank.zip.\n",
            "[nltk_data]    | Downloading package twitter_samples to\n",
            "[nltk_data]    |     C:\\Users\\Administrator\\AppData\\Roaming\\nltk_data.\n",
            "[nltk_data]    |     ..\n",
            "[nltk_data]    |   Unzipping corpora\\twitter_samples.zip.\n",
            "[nltk_data]    | Downloading package udhr to\n",
            "[nltk_data]    |     C:\\Users\\Administrator\\AppData\\Roaming\\nltk_data.\n",
            "[nltk_data]    |     ..\n",
            "[nltk_data]    |   Unzipping corpora\\udhr.zip.\n",
            "[nltk_data]    | Downloading package udhr2 to\n",
            "[nltk_data]    |     C:\\Users\\Administrator\\AppData\\Roaming\\nltk_data.\n",
            "[nltk_data]    |     ..\n",
            "[nltk_data]    |   Unzipping corpora\\udhr2.zip.\n",
            "[nltk_data]    | Downloading package unicode_samples to\n",
            "[nltk_data]    |     C:\\Users\\Administrator\\AppData\\Roaming\\nltk_data.\n",
            "[nltk_data]    |     ..\n",
            "[nltk_data]    |   Unzipping corpora\\unicode_samples.zip.\n",
            "[nltk_data]    | Downloading package universal_tagset to\n",
            "[nltk_data]    |     C:\\Users\\Administrator\\AppData\\Roaming\\nltk_data.\n",
            "[nltk_data]    |     ..\n",
            "[nltk_data]    |   Unzipping taggers\\universal_tagset.zip.\n",
            "[nltk_data]    | Downloading package universal_treebanks_v20 to\n",
            "[nltk_data]    |     C:\\Users\\Administrator\\AppData\\Roaming\\nltk_data.\n",
            "[nltk_data]    |     ..\n",
            "[nltk_data]    | Downloading package vader_lexicon to\n",
            "[nltk_data]    |     C:\\Users\\Administrator\\AppData\\Roaming\\nltk_data.\n",
            "[nltk_data]    |     ..\n",
            "[nltk_data]    | Downloading package verbnet to\n",
            "[nltk_data]    |     C:\\Users\\Administrator\\AppData\\Roaming\\nltk_data.\n",
            "[nltk_data]    |     ..\n",
            "[nltk_data]    |   Unzipping corpora\\verbnet.zip.\n",
            "[nltk_data]    | Downloading package verbnet3 to\n",
            "[nltk_data]    |     C:\\Users\\Administrator\\AppData\\Roaming\\nltk_data.\n",
            "[nltk_data]    |     ..\n",
            "[nltk_data]    |   Unzipping corpora\\verbnet3.zip.\n",
            "[nltk_data]    | Downloading package webtext to\n",
            "[nltk_data]    |     C:\\Users\\Administrator\\AppData\\Roaming\\nltk_data.\n",
            "[nltk_data]    |     ..\n",
            "[nltk_data]    |   Unzipping corpora\\webtext.zip.\n",
            "[nltk_data]    | Downloading package wmt15_eval to\n",
            "[nltk_data]    |     C:\\Users\\Administrator\\AppData\\Roaming\\nltk_data.\n",
            "[nltk_data]    |     ..\n",
            "[nltk_data]    |   Unzipping models\\wmt15_eval.zip.\n",
            "[nltk_data]    | Downloading package word2vec_sample to\n",
            "[nltk_data]    |     C:\\Users\\Administrator\\AppData\\Roaming\\nltk_data.\n",
            "[nltk_data]    |     ..\n",
            "[nltk_data]    |   Unzipping models\\word2vec_sample.zip.\n",
            "[nltk_data]    | Downloading package wordnet to\n",
            "[nltk_data]    |     C:\\Users\\Administrator\\AppData\\Roaming\\nltk_data.\n",
            "[nltk_data]    |     ..\n",
            "[nltk_data]    | Downloading package wordnet2021 to\n",
            "[nltk_data]    |     C:\\Users\\Administrator\\AppData\\Roaming\\nltk_data.\n",
            "[nltk_data]    |     ..\n",
            "[nltk_data]    | Downloading package wordnet2022 to\n",
            "[nltk_data]    |     C:\\Users\\Administrator\\AppData\\Roaming\\nltk_data.\n",
            "[nltk_data]    |     ..\n",
            "[nltk_data]    |   Unzipping corpora\\wordnet2022.zip.\n",
            "[nltk_data]    | Downloading package wordnet31 to\n",
            "[nltk_data]    |     C:\\Users\\Administrator\\AppData\\Roaming\\nltk_data.\n",
            "[nltk_data]    |     ..\n",
            "[nltk_data]    | Downloading package wordnet_ic to\n",
            "[nltk_data]    |     C:\\Users\\Administrator\\AppData\\Roaming\\nltk_data.\n",
            "[nltk_data]    |     ..\n",
            "[nltk_data]    |   Unzipping corpora\\wordnet_ic.zip.\n",
            "[nltk_data]    | Downloading package words to\n",
            "[nltk_data]    |     C:\\Users\\Administrator\\AppData\\Roaming\\nltk_data.\n",
            "[nltk_data]    |     ..\n",
            "[nltk_data]    |   Unzipping corpora\\words.zip.\n",
            "[nltk_data]    | Downloading package ycoe to\n",
            "[nltk_data]    |     C:\\Users\\Administrator\\AppData\\Roaming\\nltk_data.\n",
            "[nltk_data]    |     ..\n",
            "[nltk_data]    |   Unzipping corpora\\ycoe.zip.\n",
            "[nltk_data]    | \n",
            "[nltk_data]  Done downloading collection all\n"
          ]
        }
      ],
      "source": [
        "import csv\n",
        "import tensorflow as tf\n",
        "import pandas as pd\n",
        "import numpy as np\n",
        "import matplotlib.pyplot as plt\n",
        "import seaborn as sns\n",
        "from tensorflow.keras.preprocessing.text import Tokenizer\n",
        "from tensorflow.keras.preprocessing.sequence import pad_sequences\n",
        "from tensorflow.keras.models import Sequential\n",
        "from tensorflow.keras.layers import Dense, Flatten, LSTM, Dropout, Activation, Embedding,SimpleRNN,GRU\n",
        "import nltk\n",
        "# nltk.download('all')\n",
        "from nltk.corpus import stopwords\n",
        "from nltk import word_tokenize\n",
        "STOPWORDS = set(stopwords.words('english'))\n",
        "from string import punctuation\n",
        "punct = list(punctuation)\n",
        "from tqdm import tqdm\n",
        "from keras.callbacks import ReduceLROnPlateau,EarlyStopping\n",
        "from sklearn.metrics import classification_report\n",
        "from sklearn.metrics import confusion_matrix"
      ]
    },
    {
      "cell_type": "code",
      "execution_count": 5,
      "metadata": {
        "colab": {
          "base_uri": "https://localhost:8080/",
          "height": 206
        },
        "id": "cdJ0NBLvujb3",
        "outputId": "ed82cc0d-ca0f-452b-cba0-edff3417e6c0"
      },
      "outputs": [
        {
          "data": {
            "text/html": [
              "<div>\n",
              "<style scoped>\n",
              "    .dataframe tbody tr th:only-of-type {\n",
              "        vertical-align: middle;\n",
              "    }\n",
              "\n",
              "    .dataframe tbody tr th {\n",
              "        vertical-align: top;\n",
              "    }\n",
              "\n",
              "    .dataframe thead th {\n",
              "        text-align: right;\n",
              "    }\n",
              "</style>\n",
              "<table border=\"1\" class=\"dataframe\">\n",
              "  <thead>\n",
              "    <tr style=\"text-align: right;\">\n",
              "      <th></th>\n",
              "      <th>category</th>\n",
              "      <th>text</th>\n",
              "    </tr>\n",
              "  </thead>\n",
              "  <tbody>\n",
              "    <tr>\n",
              "      <th>0</th>\n",
              "      <td>tech</td>\n",
              "      <td>tv future in the hands of viewers with home th...</td>\n",
              "    </tr>\n",
              "    <tr>\n",
              "      <th>1</th>\n",
              "      <td>business</td>\n",
              "      <td>worldcom boss  left books alone  former worldc...</td>\n",
              "    </tr>\n",
              "    <tr>\n",
              "      <th>2</th>\n",
              "      <td>sport</td>\n",
              "      <td>tigers wary of farrell  gamble  leicester say ...</td>\n",
              "    </tr>\n",
              "    <tr>\n",
              "      <th>3</th>\n",
              "      <td>sport</td>\n",
              "      <td>yeading face newcastle in fa cup premiership s...</td>\n",
              "    </tr>\n",
              "    <tr>\n",
              "      <th>4</th>\n",
              "      <td>entertainment</td>\n",
              "      <td>ocean s twelve raids box office ocean s twelve...</td>\n",
              "    </tr>\n",
              "  </tbody>\n",
              "</table>\n",
              "</div>"
            ],
            "text/plain": [
              "        category                                               text\n",
              "0           tech  tv future in the hands of viewers with home th...\n",
              "1       business  worldcom boss  left books alone  former worldc...\n",
              "2          sport  tigers wary of farrell  gamble  leicester say ...\n",
              "3          sport  yeading face newcastle in fa cup premiership s...\n",
              "4  entertainment  ocean s twelve raids box office ocean s twelve..."
            ]
          },
          "execution_count": 5,
          "metadata": {},
          "output_type": "execute_result"
        }
      ],
      "source": [
        "#@title Load Dataset\n",
        "data=pd.read_csv('D:\\My_Models\\TextClassification_UsingGRU.csv')\n",
        "data.head()"
      ]
    },
    {
      "cell_type": "code",
      "execution_count": 6,
      "metadata": {
        "id": "0sfKJyZGumJH"
      },
      "outputs": [],
      "source": [
        "articles=data['text']\n",
        "labels=data['category']"
      ]
    },
    {
      "cell_type": "code",
      "execution_count": 7,
      "metadata": {
        "id": "Cg8HxRw00K8f"
      },
      "outputs": [],
      "source": [
        "# Tokenization and cleaning functions\n",
        "STOPWORDS = set()  # Define STOPWORDS if needed\n",
        "punct = set(\".,!?()[]{}:;\\\"'\")  # Define punct if needed\n"
      ]
    },
    {
      "cell_type": "code",
      "execution_count": 8,
      "metadata": {
        "id": "niTBaQunuyIz"
      },
      "outputs": [],
      "source": [
        "def tokenize(sentence):\n",
        "    return word_tokenize(sentence)\n",
        "\n",
        "def clean(sentence):\n",
        "    words = []\n",
        "    for word in tokenize(sentence):\n",
        "        if word not in STOPWORDS and word not in punct and not word.isdigit():\n",
        "            words.append(word.lower())\n",
        "    return ' '.join(words)\n"
      ]
    },
    {
      "cell_type": "code",
      "execution_count": 9,
      "metadata": {
        "colab": {
          "base_uri": "https://localhost:8080/",
          "height": 258
        },
        "id": "Zyug5O5euzmn",
        "outputId": "d5135f8d-a285-4dd4-b678-67284f9fef14"
      },
      "outputs": [
        {
          "name": "stderr",
          "output_type": "stream",
          "text": [
            "100%|██████████| 2225/2225 [00:06<00:00, 321.46it/s]\n"
          ]
        },
        {
          "data": {
            "text/plain": [
              "0    tv future in the hands of viewers with home th...\n",
              "1    worldcom boss left books alone former worldcom...\n",
              "2    tigers wary of farrell gamble leicester say th...\n",
              "3    yeading face newcastle in fa cup premiership s...\n",
              "4    ocean s twelve raids box office ocean s twelve...\n",
              "Name: text, dtype: object"
            ]
          },
          "execution_count": 9,
          "metadata": {},
          "output_type": "execute_result"
        }
      ],
      "source": [
        "for i in tqdm(range(len(articles))):\n",
        "    articles[i] = clean(articles[i])\n",
        "articles.head()"
      ]
    },
    {
      "cell_type": "code",
      "execution_count": 10,
      "metadata": {
        "id": "zMZkEfSAu1NX"
      },
      "outputs": [],
      "source": [
        "# Define parameters\n",
        "vocab_size = 5000\n",
        "embedding_dim = 64\n",
        "max_length = 200\n",
        "oov_tok = '<OOV>'  # Out of Vocabulary\n",
        "training_portion = 0.8"
      ]
    },
    {
      "cell_type": "code",
      "execution_count": 11,
      "metadata": {
        "colab": {
          "base_uri": "https://localhost:8080/"
        },
        "id": "Hfooi6e-u2tt",
        "outputId": "e3b9a1fb-fcc8-4b27-bb28-3f78a2f02bed"
      },
      "outputs": [
        {
          "data": {
            "text/plain": [
              "(2225, 2225)"
            ]
          },
          "execution_count": 11,
          "metadata": {},
          "output_type": "execute_result"
        }
      ],
      "source": [
        "len(labels),len(articles)"
      ]
    },
    {
      "cell_type": "code",
      "execution_count": 12,
      "metadata": {
        "colab": {
          "base_uri": "https://localhost:8080/"
        },
        "id": "Pbv8oK5Au4cf",
        "outputId": "cfc5a913-fe92-4d0a-ec6a-c6d76f9dd939"
      },
      "outputs": [
        {
          "data": {
            "text/plain": [
              "('tech',\n",
              " 'tv future in the hands of viewers with home theatre systems plasma high-definition tvs and digital video recorders moving into the living room the way people watch tv will be radically different in five years time that is according to an expert panel which gathered at the annual consumer electronics show in las vegas to discuss how these new technologies will impact one of our favourite pastimes with the us leading the trend programmes and other content will be delivered to viewers via home networks through cable satellite telecoms companies and broadband service providers to front rooms and portable devices one of the most talked-about technologies of ces has been digital and personal video recorders dvr and pvr these set-top boxes like the us s tivo and the uk s sky+ system allow people to record store play pause and forward wind tv programmes when they want essentially the technology allows for much more personalised tv they are also being built-in to high-definition tv sets which are big business in japan and the us but slower to take off in europe because of the lack of high-definition programming not only can people forward wind through adverts they can also forget about abiding by network and channel schedules putting together their own a-la-carte entertainment but some us networks and cable and satellite companies are worried about what it means for them in terms of advertising revenues as well as brand identity and viewer loyalty to channels although the us leads in this technology at the moment it is also a concern that is being raised in europe particularly with the growing uptake of services like sky+ what happens here today we will see in nine months to a years time in the uk adam hume the bbc broadcast s futurologist told the bbc news website for the likes of the bbc there are no issues of lost advertising revenue yet it is a more pressing issue at the moment for commercial uk broadcasters but brand loyalty is important for everyone we will be talking more about content brands rather than network brands said tim hanlon from brand communications firm starcom mediavest the reality is that with broadband connections anybody can be the producer of content he added the challenge now is that it is hard to promote a programme with so much choice what this means said stacey jolna senior vice president of tv guide tv group is that the way people find the content they want to watch has to be simplified for tv viewers it means that networks in us terms or channels could take a leaf out of google s book and be the search engine of the future instead of the scheduler to help people find what they want to watch this kind of channel model might work for the younger ipod generation which is used to taking control of their gadgets and what they play on them but it might not suit everyone the panel recognised older generations are more comfortable with familiar schedules and channel brands because they know what they are getting they perhaps do not want so much of the choice put into their hands mr hanlon suggested on the other end you have the kids just out of diapers who are pushing buttons already - everything is possible and available to them said mr hanlon ultimately the consumer will tell the market they want of the new gadgets and technologies being showcased at ces many of them are about enhancing the tv-watching experience high-definition tv sets are everywhere and many new models of lcd liquid crystal display tvs have been launched with dvr capability built into them instead of being external boxes one such example launched at the show is humax s 26-inch lcd tv with an 80-hour tivo dvr and dvd recorder one of the us s biggest satellite tv companies directtv has even launched its own branded dvr at the show with 100-hours of recording capability instant replay and a search function the set can pause and rewind tv for up to hours and microsoft chief bill gates announced in his pre-show keynote speech a partnership with tivo called tivotogo which means people can play recorded programmes on windows pcs and mobile devices all these reflect the increasing trend of freeing up multimedia so that people can watch what they want when they want')"
            ]
          },
          "execution_count": 12,
          "metadata": {},
          "output_type": "execute_result"
        }
      ],
      "source": [
        "labels[0],articles[0]"
      ]
    },
    {
      "cell_type": "code",
      "execution_count": 13,
      "metadata": {
        "id": "2z0kwneRu6Kv"
      },
      "outputs": [],
      "source": [
        "# Split data into training and validation sets\n",
        "train_size = int(len(articles) * training_portion)\n",
        "train_articles = articles[:train_size]\n",
        "train_labels = labels[:train_size]\n",
        "validation_articles = articles[train_size:]\n",
        "validation_labels = labels[train_size:]"
      ]
    },
    {
      "cell_type": "code",
      "execution_count": 14,
      "metadata": {
        "colab": {
          "base_uri": "https://localhost:8080/"
        },
        "id": "Bl0EwSVdu74X",
        "outputId": "65c60c83-afbb-413f-fb0a-c336090c9d46"
      },
      "outputs": [
        {
          "name": "stdout",
          "output_type": "stream",
          "text": [
            "train_articles 1780\n",
            "train_labels 1780\n",
            "validation_articles 445\n",
            "validation_labels 445\n"
          ]
        }
      ],
      "source": [
        "print('train_articles' ,len(train_articles))\n",
        "print('train_labels', len(train_labels))\n",
        "print('validation_articles', len(validation_articles))\n",
        "print('validation_labels', len(validation_labels))"
      ]
    },
    {
      "cell_type": "code",
      "execution_count": 15,
      "metadata": {
        "id": "1lrRvUR9u9mX"
      },
      "outputs": [],
      "source": [
        "# Tokenize the articles\n",
        "tokenizer = Tokenizer(num_words=vocab_size, oov_token=oov_tok)\n",
        "tokenizer.fit_on_texts(train_articles)"
      ]
    },
    {
      "cell_type": "code",
      "execution_count": 16,
      "metadata": {
        "id": "e2rv6slRu_HX"
      },
      "outputs": [],
      "source": [
        "# Convert articles into padded sequences\n",
        "train_sequences = tokenizer.texts_to_sequences(train_articles)\n",
        "train_padded = pad_sequences(train_sequences, maxlen=max_length)\n",
        "\n",
        "validation_sequences = tokenizer.texts_to_sequences(validation_articles)\n",
        "validation_padded = pad_sequences(validation_sequences, maxlen=max_length)"
      ]
    },
    {
      "cell_type": "code",
      "execution_count": 17,
      "metadata": {
        "colab": {
          "base_uri": "https://localhost:8080/"
        },
        "id": "i5dgpHHwvDvP",
        "outputId": "f580e59a-4fd0-4590-aaf3-a4f70a7dd442"
      },
      "outputs": [
        {
          "data": {
            "text/plain": [
              "[[2, 1, 1, 13, 114, 2269]]"
            ]
          },
          "execution_count": 17,
          "metadata": {},
          "output_type": "execute_result"
        }
      ],
      "source": [
        "tokenizer.texts_to_sequences(['the cat sat on my table'])"
      ]
    },
    {
      "cell_type": "code",
      "execution_count": 18,
      "metadata": {
        "colab": {
          "base_uri": "https://localhost:8080/"
        },
        "id": "pICbyyrwvFw3",
        "outputId": "72201e09-3a43-442a-82ee-21d2f3044958"
      },
      "outputs": [
        {
          "name": "stderr",
          "output_type": "stream",
          "text": [
            "5it [00:00, ?it/s]\n"
          ]
        }
      ],
      "source": [
        "# Map labels to integers\n",
        "dict_ = {}\n",
        "for i, x in tqdm(enumerate(set(labels))):\n",
        "    dict_[x] = i"
      ]
    },
    {
      "cell_type": "code",
      "execution_count": 19,
      "metadata": {
        "colab": {
          "base_uri": "https://localhost:8080/"
        },
        "id": "MdlMhAtUvHEP",
        "outputId": "fd7d1bfb-65a3-45f2-cadd-3351f1c1f8f3"
      },
      "outputs": [
        {
          "name": "stderr",
          "output_type": "stream",
          "text": [
            "100%|██████████| 1780/1780 [00:00<00:00, 297586.94it/s]\n",
            "100%|██████████| 445/445 [00:00<00:00, 74364.13it/s]\n"
          ]
        }
      ],
      "source": [
        "training_label_seq = np.array([dict_[train_labels[i]] for i in tqdm(range(len(train_labels)))])\n",
        "validation_label_seq = np.array([dict_[np.array(validation_labels)[i]] for i in tqdm(range(len(validation_labels)))])\n"
      ]
    },
    {
      "cell_type": "code",
      "execution_count": 20,
      "metadata": {
        "colab": {
          "base_uri": "https://localhost:8080/"
        },
        "id": "FuJSc1QsvPGP",
        "outputId": "2a4d1f52-66ec-4f10-8f17-dcc56b7a62ec"
      },
      "outputs": [
        {
          "data": {
            "text/plain": [
              "('tech', 3)"
            ]
          },
          "execution_count": 20,
          "metadata": {},
          "output_type": "execute_result"
        }
      ],
      "source": [
        "train_labels[0], training_label_seq[0]"
      ]
    },
    {
      "cell_type": "code",
      "execution_count": 21,
      "metadata": {
        "colab": {
          "base_uri": "https://localhost:8080/",
          "height": 272
        },
        "id": "Jn6L-lFgvQZ2",
        "outputId": "16a3d508-34f2-4273-c31e-aa19b701dc01"
      },
      "outputs": [
        {
          "data": {
            "text/plain": [
              "0\n",
              "2    410\n",
              "1    404\n",
              "0    331\n",
              "4    320\n",
              "3    315\n",
              "Name: count, dtype: int64"
            ]
          },
          "execution_count": 21,
          "metadata": {},
          "output_type": "execute_result"
        }
      ],
      "source": [
        "pd.DataFrame(training_label_seq).value_counts()"
      ]
    },
    {
      "cell_type": "code",
      "execution_count": 22,
      "metadata": {
        "colab": {
          "base_uri": "https://localhost:8080/",
          "height": 272
        },
        "id": "Y_6hQVshvSCh",
        "outputId": "331d8cda-867c-43d0-ced5-303c57ac346d"
      },
      "outputs": [
        {
          "data": {
            "text/plain": [
              "0\n",
              "1    106\n",
              "2    101\n",
              "0     86\n",
              "3     86\n",
              "4     66\n",
              "Name: count, dtype: int64"
            ]
          },
          "execution_count": 22,
          "metadata": {},
          "output_type": "execute_result"
        }
      ],
      "source": [
        "pd.DataFrame(validation_label_seq).value_counts()"
      ]
    },
    {
      "cell_type": "code",
      "execution_count": 23,
      "metadata": {
        "colab": {
          "base_uri": "https://localhost:8080/",
          "height": 526
        },
        "id": "61pKx3v4vTpm",
        "outputId": "35ce019f-fcb0-4236-d751-3d5e288a8e9c"
      },
      "outputs": [
        {
          "data": {
            "text/plain": [
              "Text(0, 0.5, 'Count')"
            ]
          },
          "execution_count": 23,
          "metadata": {},
          "output_type": "execute_result"
        },
        {
          "data": {
            "image/png": "[encoded data removed]",
            "text/plain": [
              "<Figure size 2000x500 with 2 Axes>"
            ]
          },
          "metadata": {},
          "output_type": "display_data"
        }
      ],
      "source": [
        "plt.figure(figsize=(20,5))\n",
        "plt.subplot(1,2,1)\n",
        "plt.title(\"Distribution Of Train\",fontsize=20)\n",
        "sns.histplot(training_label_seq,color='red')\n",
        "plt.xlabel('Label',fontsize=20)\n",
        "plt.ylabel(\"Count\",fontsize=20)\n",
        "plt.subplot(1,2,2)\n",
        "plt.title(\"Distribution Of Test\",fontsize=20)\n",
        "sns.histplot(validation_label_seq,color='red')\n",
        "plt.xlabel('Label',fontsize=20)\n",
        "plt.ylabel(\"Count\",fontsize=20)"
      ]
    },
    {
      "cell_type": "code",
      "execution_count": 24,
      "metadata": {
        "colab": {
          "base_uri": "https://localhost:8080/",
          "height": 306
        },
        "id": "KbgEjEOsvVl3",
        "outputId": "bf3a2528-b7bc-499c-de6c-d1c8ae960843"
      },
      "outputs": [
        {
          "name": "stdout",
          "output_type": "stream",
          "text": [
            "Model: \"sequential\"\n",
            "_________________________________________________________________\n",
            " Layer (type)                Output Shape              Param #   \n",
            "=================================================================\n",
            " embedding (Embedding)       (None, None, 64)          320000    \n",
            "                                                                 \n",
            " dropout (Dropout)           (None, None, 64)          0         \n",
            "                                                                 \n",
            " gru (GRU)                   (None, 32)                9408      \n",
            "                                                                 \n",
            " dropout_1 (Dropout)         (None, 32)                0         \n",
            "                                                                 \n",
            " dense (Dense)               (None, 5)                 165       \n",
            "                                                                 \n",
            "=================================================================\n",
            "Total params: 329,573\n",
            "Trainable params: 329,573\n",
            "Non-trainable params: 0\n",
            "_________________________________________________________________\n"
          ]
        }
      ],
      "source": [
        "from tensorflow.keras.models import Sequential\n",
        "from tensorflow.keras.layers import Embedding, Dropout, GRU, Dense\n",
        "\n",
        "num_classes = len(set(labels))  # Number of unique classes in your dataset\n",
        "\n",
        "model = Sequential()\n",
        "model.add(Embedding(input_dim=vocab_size, output_dim=embedding_dim))\n",
        "model.add(Dropout(0.5))\n",
        "model.add(GRU(units=32))\n",
        "model.add(Dropout(0.5))\n",
        "model.add(Dense(num_classes, activation='softmax'))\n",
        "\n",
        "# Model summary\n",
        "model.summary()"
      ]
    },
    {
      "cell_type": "code",
      "execution_count": 25,
      "metadata": {
        "colab": {
          "base_uri": "https://localhost:8080/"
        },
        "id": "6EEOAjbT0-HZ",
        "outputId": "959106a2-32cf-47e0-d861-e17efbb40ca8"
      },
      "outputs": [
        {
          "name": "stdout",
          "output_type": "stream",
          "text": [
            "Epoch 1/20\n",
            "56/56 [==============================] - 8s 25ms/step - loss: 1.6026 - accuracy: 0.2416 - val_loss: 1.5941 - val_accuracy: 0.2831\n",
            "Epoch 2/20\n",
            "56/56 [==============================] - 1s 12ms/step - loss: 1.5719 - accuracy: 0.3191 - val_loss: 1.5599 - val_accuracy: 0.3191\n",
            "Epoch 3/20\n",
            "56/56 [==============================] - 1s 12ms/step - loss: 1.2899 - accuracy: 0.4517 - val_loss: 1.1582 - val_accuracy: 0.4652\n",
            "Epoch 4/20\n",
            "56/56 [==============================] - 1s 12ms/step - loss: 1.0306 - accuracy: 0.5461 - val_loss: 1.0327 - val_accuracy: 0.5888\n",
            "Epoch 5/20\n",
            "56/56 [==============================] - 1s 13ms/step - loss: 0.8090 - accuracy: 0.6556 - val_loss: 0.8346 - val_accuracy: 0.6607\n",
            "Epoch 6/20\n",
            "56/56 [==============================] - 1s 12ms/step - loss: 0.6153 - accuracy: 0.7326 - val_loss: 0.6926 - val_accuracy: 0.7079\n",
            "Epoch 7/20\n",
            "56/56 [==============================] - 1s 12ms/step - loss: 0.4913 - accuracy: 0.8163 - val_loss: 0.6745 - val_accuracy: 0.7124\n",
            "Epoch 8/20\n",
            "56/56 [==============================] - 1s 12ms/step - loss: 0.3883 - accuracy: 0.8764 - val_loss: 0.6104 - val_accuracy: 0.7618\n",
            "Epoch 9/20\n",
            "56/56 [==============================] - 1s 12ms/step - loss: 0.3669 - accuracy: 0.8972 - val_loss: 0.6069 - val_accuracy: 0.7685\n",
            "Epoch 10/20\n",
            "56/56 [==============================] - 1s 13ms/step - loss: 0.2774 - accuracy: 0.9360 - val_loss: 0.5562 - val_accuracy: 0.7888\n",
            "Epoch 11/20\n",
            "56/56 [==============================] - 1s 12ms/step - loss: 0.1955 - accuracy: 0.9601 - val_loss: 0.6167 - val_accuracy: 0.7820\n",
            "Epoch 12/20\n",
            "56/56 [==============================] - 1s 13ms/step - loss: 0.1628 - accuracy: 0.9691 - val_loss: 0.5168 - val_accuracy: 0.8225\n",
            "Epoch 13/20\n",
            "56/56 [==============================] - 1s 13ms/step - loss: 0.1169 - accuracy: 0.9770 - val_loss: 0.4789 - val_accuracy: 0.8472\n",
            "Epoch 14/20\n",
            "56/56 [==============================] - 1s 12ms/step - loss: 0.0824 - accuracy: 0.9904 - val_loss: 0.4557 - val_accuracy: 0.8449\n",
            "Epoch 15/20\n",
            "56/56 [==============================] - 1s 12ms/step - loss: 0.0727 - accuracy: 0.9944 - val_loss: 0.4510 - val_accuracy: 0.8607\n",
            "Epoch 16/20\n",
            "56/56 [==============================] - 1s 13ms/step - loss: 0.0599 - accuracy: 0.9949 - val_loss: 0.4530 - val_accuracy: 0.8697\n",
            "Epoch 17/20\n",
            "56/56 [==============================] - 1s 13ms/step - loss: 0.0598 - accuracy: 0.9916 - val_loss: 0.4708 - val_accuracy: 0.8629\n",
            "Epoch 18/20\n",
            "56/56 [==============================] - 1s 12ms/step - loss: 0.1274 - accuracy: 0.9680 - val_loss: 0.6144 - val_accuracy: 0.8067\n",
            "Epoch 19/20\n",
            "56/56 [==============================] - 1s 12ms/step - loss: 0.0702 - accuracy: 0.9910 - val_loss: 0.5000 - val_accuracy: 0.8584\n",
            "Epoch 20/20\n",
            "56/56 [==============================] - 1s 13ms/step - loss: 0.0450 - accuracy: 0.9949 - val_loss: 0.5080 - val_accuracy: 0.8607\n"
          ]
        }
      ],
      "source": [
        "# Compile and train the model\n",
        "model.compile(optimizer='adam', loss='sparse_categorical_crossentropy', metrics=['accuracy'])\n",
        "\n",
        "history = model.fit(train_padded, training_label_seq, epochs=20, validation_data=(validation_padded, validation_label_seq))"
      ]
    },
    {
      "cell_type": "code",
      "execution_count": 26,
      "metadata": {
        "colab": {
          "base_uri": "https://localhost:8080/",
          "height": 927
        },
        "id": "u6ue7uJ22Lx5",
        "outputId": "0f41efe8-0081-4547-ab89-370b997c8f2f"
      },
      "outputs": [
        {
          "data": {
            "image/png": "[encoded data removed]",
            "text/plain": [
              "<Figure size 640x480 with 1 Axes>"
            ]
          },
          "metadata": {},
          "output_type": "display_data"
        },
        {
          "data": {
            "image/png": "[encoded data removed]",
            "text/plain": [
              "<Figure size 640x480 with 1 Axes>"
            ]
          },
          "metadata": {},
          "output_type": "display_data"
        }
      ],
      "source": [
        "import matplotlib.pyplot as plt\n",
        "\n",
        "# Plot training & validation accuracy values\n",
        "plt.plot(history.history['accuracy'])\n",
        "plt.plot(history.history['val_accuracy'])\n",
        "plt.title('Model accuracy')\n",
        "plt.xlabel('Epoch')\n",
        "plt.ylabel('Accuracy')\n",
        "plt.legend(['Train', 'Validation'], loc='upper left')\n",
        "plt.show()\n",
        "\n",
        "# Plot training & validation loss values\n",
        "plt.plot(history.history['loss'])\n",
        "plt.plot(history.history['val_loss'])\n",
        "plt.title('Model loss')\n",
        "plt.xlabel('Epoch')\n",
        "plt.ylabel('Loss')\n",
        "plt.legend(['Train', 'Validation'], loc='upper left')\n",
        "plt.show()\n"
      ]
    },
    {
      "cell_type": "code",
      "execution_count": 27,
      "metadata": {
        "colab": {
          "base_uri": "https://localhost:8080/"
        },
        "id": "IsUX_Z0uvXak",
        "outputId": "698aecab-c79c-43a9-93fc-102eb1e3d665"
      },
      "outputs": [
        {
          "name": "stdout",
          "output_type": "stream",
          "text": [
            "Epoch 1/50\n",
            "56/56 [==============================] - 3s 29ms/step - loss: 0.0502 - accuracy: 0.9893 - val_loss: 0.6664 - val_accuracy: 0.8360 - lr: 0.0010\n",
            "Epoch 2/50\n",
            "56/56 [==============================] - 1s 12ms/step - loss: 0.0348 - accuracy: 0.9944 - val_loss: 0.5845 - val_accuracy: 0.8337 - lr: 0.0010\n",
            "Epoch 3/50\n",
            "56/56 [==============================] - 1s 12ms/step - loss: 0.0330 - accuracy: 0.9961 - val_loss: 0.5190 - val_accuracy: 0.8764 - lr: 0.0010\n",
            "Epoch 4/50\n",
            "56/56 [==============================] - 1s 13ms/step - loss: 0.0199 - accuracy: 0.9994 - val_loss: 0.5688 - val_accuracy: 0.8494 - lr: 0.0010\n",
            "Epoch 5/50\n",
            "56/56 [==============================] - 1s 13ms/step - loss: 0.0622 - accuracy: 0.9876 - val_loss: 0.6981 - val_accuracy: 0.8360 - lr: 0.0010\n",
            "Epoch 6/50\n",
            "56/56 [==============================] - 1s 12ms/step - loss: 0.0218 - accuracy: 0.9972 - val_loss: 0.5960 - val_accuracy: 0.8584 - lr: 0.0010\n",
            "Epoch 7/50\n",
            "56/56 [==============================] - 1s 13ms/step - loss: 0.0169 - accuracy: 0.9983 - val_loss: 0.5942 - val_accuracy: 0.8629 - lr: 1.0000e-04\n",
            "Epoch 8/50\n",
            "56/56 [==============================] - 1s 13ms/step - loss: 0.0145 - accuracy: 0.9994 - val_loss: 0.5883 - val_accuracy: 0.8674 - lr: 1.0000e-04\n",
            "Epoch 9/50\n",
            "56/56 [==============================] - 1s 12ms/step - loss: 0.0161 - accuracy: 0.9994 - val_loss: 0.5860 - val_accuracy: 0.8674 - lr: 1.0000e-04\n",
            "Epoch 10/50\n",
            "56/56 [==============================] - 1s 13ms/step - loss: 0.0154 - accuracy: 1.0000 - val_loss: 0.5855 - val_accuracy: 0.8674 - lr: 1.0000e-05\n",
            "Epoch 11/50\n",
            "56/56 [==============================] - 1s 12ms/step - loss: 0.0147 - accuracy: 0.9989 - val_loss: 0.5854 - val_accuracy: 0.8674 - lr: 1.0000e-05\n",
            "Epoch 12/50\n",
            "56/56 [==============================] - 1s 12ms/step - loss: 0.0175 - accuracy: 0.9978 - val_loss: 0.5847 - val_accuracy: 0.8674 - lr: 1.0000e-05\n",
            "Epoch 13/50\n",
            "56/56 [==============================] - 1s 13ms/step - loss: 0.0146 - accuracy: 1.0000 - val_loss: 0.5847 - val_accuracy: 0.8674 - lr: 1.0000e-06\n"
          ]
        }
      ],
      "source": [
        "reduce_lr = ReduceLROnPlateau(monitor='val_loss', factor=0.1, patience=3)\n",
        "early_stop=EarlyStopping(monitor='val_loss',patience=10)\n",
        "model.compile(loss='sparse_categorical_crossentropy',optimizer='adam',metrics=['accuracy'])\n",
        "history = model.fit(train_padded, training_label_seq, epochs=50,\n",
        "                    validation_data=(validation_padded, validation_label_seq),\n",
        "                    callbacks=[reduce_lr,early_stop])"
      ]
    },
    {
      "cell_type": "code",
      "execution_count": 28,
      "metadata": {
        "colab": {
          "base_uri": "https://localhost:8080/",
          "height": 520
        },
        "id": "0Ic0iVWCvZqT",
        "outputId": "a9017d4d-b992-417f-daaf-6b9ecfdf8ebe"
      },
      "outputs": [
        {
          "data": {
            "text/html": [
              "<div>\n",
              "<style scoped>\n",
              "    .dataframe tbody tr th:only-of-type {\n",
              "        vertical-align: middle;\n",
              "    }\n",
              "\n",
              "    .dataframe tbody tr th {\n",
              "        vertical-align: top;\n",
              "    }\n",
              "\n",
              "    .dataframe thead th {\n",
              "        text-align: right;\n",
              "    }\n",
              "</style>\n",
              "<table border=\"1\" class=\"dataframe\">\n",
              "  <thead>\n",
              "    <tr style=\"text-align: right;\">\n",
              "      <th></th>\n",
              "      <th>loss</th>\n",
              "      <th>accuracy</th>\n",
              "      <th>val_loss</th>\n",
              "      <th>val_accuracy</th>\n",
              "      <th>lr</th>\n",
              "    </tr>\n",
              "  </thead>\n",
              "  <tbody>\n",
              "    <tr>\n",
              "      <th>0</th>\n",
              "      <td>0.050161</td>\n",
              "      <td>0.989326</td>\n",
              "      <td>0.666388</td>\n",
              "      <td>0.835955</td>\n",
              "      <td>0.001000</td>\n",
              "    </tr>\n",
              "    <tr>\n",
              "      <th>1</th>\n",
              "      <td>0.034783</td>\n",
              "      <td>0.994382</td>\n",
              "      <td>0.584459</td>\n",
              "      <td>0.833708</td>\n",
              "      <td>0.001000</td>\n",
              "    </tr>\n",
              "    <tr>\n",
              "      <th>2</th>\n",
              "      <td>0.033045</td>\n",
              "      <td>0.996067</td>\n",
              "      <td>0.519027</td>\n",
              "      <td>0.876405</td>\n",
              "      <td>0.001000</td>\n",
              "    </tr>\n",
              "    <tr>\n",
              "      <th>3</th>\n",
              "      <td>0.019925</td>\n",
              "      <td>0.999438</td>\n",
              "      <td>0.568775</td>\n",
              "      <td>0.849438</td>\n",
              "      <td>0.001000</td>\n",
              "    </tr>\n",
              "    <tr>\n",
              "      <th>4</th>\n",
              "      <td>0.062177</td>\n",
              "      <td>0.987640</td>\n",
              "      <td>0.698054</td>\n",
              "      <td>0.835955</td>\n",
              "      <td>0.001000</td>\n",
              "    </tr>\n",
              "    <tr>\n",
              "      <th>5</th>\n",
              "      <td>0.021796</td>\n",
              "      <td>0.997191</td>\n",
              "      <td>0.595990</td>\n",
              "      <td>0.858427</td>\n",
              "      <td>0.001000</td>\n",
              "    </tr>\n",
              "    <tr>\n",
              "      <th>6</th>\n",
              "      <td>0.016905</td>\n",
              "      <td>0.998315</td>\n",
              "      <td>0.594227</td>\n",
              "      <td>0.862921</td>\n",
              "      <td>0.000100</td>\n",
              "    </tr>\n",
              "    <tr>\n",
              "      <th>7</th>\n",
              "      <td>0.014523</td>\n",
              "      <td>0.999438</td>\n",
              "      <td>0.588335</td>\n",
              "      <td>0.867416</td>\n",
              "      <td>0.000100</td>\n",
              "    </tr>\n",
              "    <tr>\n",
              "      <th>8</th>\n",
              "      <td>0.016092</td>\n",
              "      <td>0.999438</td>\n",
              "      <td>0.585971</td>\n",
              "      <td>0.867416</td>\n",
              "      <td>0.000100</td>\n",
              "    </tr>\n",
              "    <tr>\n",
              "      <th>9</th>\n",
              "      <td>0.015407</td>\n",
              "      <td>1.000000</td>\n",
              "      <td>0.585517</td>\n",
              "      <td>0.867416</td>\n",
              "      <td>0.000010</td>\n",
              "    </tr>\n",
              "    <tr>\n",
              "      <th>10</th>\n",
              "      <td>0.014659</td>\n",
              "      <td>0.998876</td>\n",
              "      <td>0.585411</td>\n",
              "      <td>0.867416</td>\n",
              "      <td>0.000010</td>\n",
              "    </tr>\n",
              "    <tr>\n",
              "      <th>11</th>\n",
              "      <td>0.017487</td>\n",
              "      <td>0.997753</td>\n",
              "      <td>0.584727</td>\n",
              "      <td>0.867416</td>\n",
              "      <td>0.000010</td>\n",
              "    </tr>\n",
              "    <tr>\n",
              "      <th>12</th>\n",
              "      <td>0.014565</td>\n",
              "      <td>1.000000</td>\n",
              "      <td>0.584718</td>\n",
              "      <td>0.867416</td>\n",
              "      <td>0.000001</td>\n",
              "    </tr>\n",
              "  </tbody>\n",
              "</table>\n",
              "</div>"
            ],
            "text/plain": [
              "        loss  accuracy  val_loss  val_accuracy        lr\n",
              "0   0.050161  0.989326  0.666388      0.835955  0.001000\n",
              "1   0.034783  0.994382  0.584459      0.833708  0.001000\n",
              "2   0.033045  0.996067  0.519027      0.876405  0.001000\n",
              "3   0.019925  0.999438  0.568775      0.849438  0.001000\n",
              "4   0.062177  0.987640  0.698054      0.835955  0.001000\n",
              "5   0.021796  0.997191  0.595990      0.858427  0.001000\n",
              "6   0.016905  0.998315  0.594227      0.862921  0.000100\n",
              "7   0.014523  0.999438  0.588335      0.867416  0.000100\n",
              "8   0.016092  0.999438  0.585971      0.867416  0.000100\n",
              "9   0.015407  1.000000  0.585517      0.867416  0.000010\n",
              "10  0.014659  0.998876  0.585411      0.867416  0.000010\n",
              "11  0.017487  0.997753  0.584727      0.867416  0.000010\n",
              "12  0.014565  1.000000  0.584718      0.867416  0.000001"
            ]
          },
          "execution_count": 28,
          "metadata": {},
          "output_type": "execute_result"
        }
      ],
      "source": [
        "pd.DataFrame(history.history)"
      ]
    },
    {
      "cell_type": "code",
      "execution_count": 29,
      "metadata": {
        "colab": {
          "base_uri": "https://localhost:8080/",
          "height": 472
        },
        "id": "BmQEkwj4vbcm",
        "outputId": "fe9bd317-9544-4496-cb57-8f78d5cc5ced"
      },
      "outputs": [
        {
          "data": {
            "image/png": "[encoded data removed]",
            "text/plain": [
              "<Figure size 640x480 with 1 Axes>"
            ]
          },
          "metadata": {},
          "output_type": "display_data"
        }
      ],
      "source": [
        "plt.plot(history.history['accuracy'])\n",
        "plt.plot(history.history['val_accuracy'])\n",
        "plt.title('model accuracy')\n",
        "plt.ylabel('accuracy')\n",
        "plt.xlabel('epoch')\n",
        "plt.legend(['train', 'test'], loc='upper left')\n",
        "plt.show()"
      ]
    },
    {
      "cell_type": "code",
      "execution_count": 30,
      "metadata": {
        "colab": {
          "base_uri": "https://localhost:8080/",
          "height": 472
        },
        "id": "n-OuHZwtvdNJ",
        "outputId": "83241be4-e130-44a4-ce43-3d7b65438253"
      },
      "outputs": [
        {
          "data": {
            "image/png": "[encoded data removed]",
            "text/plain": [
              "<Figure size 640x480 with 1 Axes>"
            ]
          },
          "metadata": {},
          "output_type": "display_data"
        }
      ],
      "source": [
        "plt.plot(history.history['loss'])\n",
        "plt.plot(history.history['val_loss'])\n",
        "plt.title('model loss')\n",
        "plt.ylabel('loss')\n",
        "plt.xlabel('epoch')\n",
        "plt.legend(['train', 'test'], loc='upper left')\n",
        "plt.show()"
      ]
    },
    {
      "cell_type": "code",
      "execution_count": 31,
      "metadata": {
        "colab": {
          "base_uri": "https://localhost:8080/"
        },
        "id": "htbTPS06ve9n",
        "outputId": "b584fe68-723b-472f-9b01-df11c67e13fd"
      },
      "outputs": [
        {
          "name": "stdout",
          "output_type": "stream",
          "text": [
            "14/14 [==============================] - 1s 6ms/step\n"
          ]
        }
      ],
      "source": [
        "y_pred=model.predict(validation_padded)"
      ]
    },
    {
      "cell_type": "code",
      "execution_count": 32,
      "metadata": {
        "colab": {
          "base_uri": "https://localhost:8080/",
          "height": 441
        },
        "id": "WaERMH-XvgTA",
        "outputId": "73e7b401-a688-4826-d638-57af7377a78f"
      },
      "outputs": [
        {
          "name": "stderr",
          "output_type": "stream",
          "text": [
            "100%|██████████| 445/445 [00:00<00:00, 223101.28it/s]\n"
          ]
        },
        {
          "data": {
            "text/html": [
              "<div>\n",
              "<style scoped>\n",
              "    .dataframe tbody tr th:only-of-type {\n",
              "        vertical-align: middle;\n",
              "    }\n",
              "\n",
              "    .dataframe tbody tr th {\n",
              "        vertical-align: top;\n",
              "    }\n",
              "\n",
              "    .dataframe thead th {\n",
              "        text-align: right;\n",
              "    }\n",
              "</style>\n",
              "<table border=\"1\" class=\"dataframe\">\n",
              "  <thead>\n",
              "    <tr style=\"text-align: right;\">\n",
              "      <th></th>\n",
              "      <th>Prediction</th>\n",
              "      <th>actual</th>\n",
              "    </tr>\n",
              "  </thead>\n",
              "  <tbody>\n",
              "    <tr>\n",
              "      <th>0</th>\n",
              "      <td>4</td>\n",
              "      <td>4</td>\n",
              "    </tr>\n",
              "    <tr>\n",
              "      <th>1</th>\n",
              "      <td>3</td>\n",
              "      <td>3</td>\n",
              "    </tr>\n",
              "    <tr>\n",
              "      <th>2</th>\n",
              "      <td>0</td>\n",
              "      <td>0</td>\n",
              "    </tr>\n",
              "    <tr>\n",
              "      <th>3</th>\n",
              "      <td>2</td>\n",
              "      <td>2</td>\n",
              "    </tr>\n",
              "    <tr>\n",
              "      <th>4</th>\n",
              "      <td>2</td>\n",
              "      <td>2</td>\n",
              "    </tr>\n",
              "    <tr>\n",
              "      <th>...</th>\n",
              "      <td>...</td>\n",
              "      <td>...</td>\n",
              "    </tr>\n",
              "    <tr>\n",
              "      <th>440</th>\n",
              "      <td>1</td>\n",
              "      <td>1</td>\n",
              "    </tr>\n",
              "    <tr>\n",
              "      <th>441</th>\n",
              "      <td>0</td>\n",
              "      <td>0</td>\n",
              "    </tr>\n",
              "    <tr>\n",
              "      <th>442</th>\n",
              "      <td>3</td>\n",
              "      <td>4</td>\n",
              "    </tr>\n",
              "    <tr>\n",
              "      <th>443</th>\n",
              "      <td>0</td>\n",
              "      <td>0</td>\n",
              "    </tr>\n",
              "    <tr>\n",
              "      <th>444</th>\n",
              "      <td>2</td>\n",
              "      <td>2</td>\n",
              "    </tr>\n",
              "  </tbody>\n",
              "</table>\n",
              "<p>445 rows × 2 columns</p>\n",
              "</div>"
            ],
            "text/plain": [
              "     Prediction  actual\n",
              "0             4       4\n",
              "1             3       3\n",
              "2             0       0\n",
              "3             2       2\n",
              "4             2       2\n",
              "..          ...     ...\n",
              "440           1       1\n",
              "441           0       0\n",
              "442           3       4\n",
              "443           0       0\n",
              "444           2       2\n",
              "\n",
              "[445 rows x 2 columns]"
            ]
          },
          "execution_count": 32,
          "metadata": {},
          "output_type": "execute_result"
        }
      ],
      "source": [
        "pred=[np.argmax(i) for i in tqdm(y_pred)]\n",
        "df=pd.DataFrame()\n",
        "df['Prediction'],df['actual']=pred,validation_label_seq\n",
        "df"
      ]
    },
    {
      "cell_type": "code",
      "execution_count": 33,
      "metadata": {
        "colab": {
          "base_uri": "https://localhost:8080/",
          "height": 827
        },
        "id": "_mfKC3wFvibe",
        "outputId": "ae906c32-9a13-4d83-f07e-a838f45c650a"
      },
      "outputs": [
        {
          "data": {
            "image/png": "[encoded data removed]",
            "text/plain": [
              "<Figure size 800x800 with 2 Axes>"
            ]
          },
          "metadata": {},
          "output_type": "display_data"
        },
        {
          "data": {
            "text/plain": [
              "array([[ 59,  14,   5,   3,   5],\n",
              "       [ 10,  95,   0,   1,   0],\n",
              "       [  0,   0, 100,   0,   1],\n",
              "       [  1,   2,   1,  78,   4],\n",
              "       [  2,   2,   2,   6,  54]], dtype=int64)"
            ]
          },
          "execution_count": 33,
          "metadata": {},
          "output_type": "execute_result"
        }
      ],
      "source": [
        "CM = confusion_matrix(validation_label_seq,pred)\n",
        "plt.figure(figsize=(8,8))\n",
        "ax= plt.subplot()\n",
        "sns.heatmap(CM, center = True, fmt='g',ax=ax,annot=True,cmap='Blues_r')\n",
        "ax.set_xlabel('Predicted labels',fontsize=20)\n",
        "ax.set_ylabel('True labels',fontsize=20)\n",
        "ax.set_title('Confusion Matrix',fontsize=20)\n",
        "ax.xaxis.set_ticklabels(dict_.keys())\n",
        "ax.yaxis.set_ticklabels(dict_.keys())\n",
        "plt.show()\n",
        "CM"
      ]
    },
    {
      "cell_type": "code",
      "execution_count": 34,
      "metadata": {
        "colab": {
          "base_uri": "https://localhost:8080/"
        },
        "id": "MsT7-uvavkm3",
        "outputId": "9d5730d1-a7ab-46bc-c296-8d9c63a01446"
      },
      "outputs": [
        {
          "name": "stdout",
          "output_type": "stream",
          "text": [
            "Classification Report is :                precision    recall  f1-score   support\n",
            "\n",
            "           0       0.82      0.69      0.75        86\n",
            "           1       0.84      0.90      0.87       106\n",
            "           2       0.93      0.99      0.96       101\n",
            "           3       0.89      0.91      0.90        86\n",
            "           4       0.84      0.82      0.83        66\n",
            "\n",
            "    accuracy                           0.87       445\n",
            "   macro avg       0.86      0.86      0.86       445\n",
            "weighted avg       0.87      0.87      0.86       445\n",
            "\n"
          ]
        }
      ],
      "source": [
        "ClassificationReport = classification_report(validation_label_seq,pred)\n",
        "print('Classification Report is : ', ClassificationReport )"
      ]
    },
    {
      "cell_type": "code",
      "execution_count": null,
      "metadata": {
        "id": "nRLJFeq8vwWi"
      },
      "outputs": [],
      "source": []
    }
  ],
  "metadata": {
    "colab": {
      "provenance": []
    },
    "kernelspec": {
      "display_name": "Python 3",
      "name": "python3"
    },
    "language_info": {
      "codemirror_mode": {
        "name": "ipython",
        "version": 3
      },
      "file_extension": ".py",
      "mimetype": "text/x-python",
      "name": "python",
      "nbconvert_exporter": "python",
      "pygments_lexer": "ipython3",
      "version": "3.9.19"
    }
  },
  "nbformat": 4,
  "nbformat_minor": 0
}
